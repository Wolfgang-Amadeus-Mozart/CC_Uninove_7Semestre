{
 "cells": [
  {
   "cell_type": "markdown",
   "metadata": {
    "id": "2IlMBm9Kcco_"
   },
   "source": [
    "#### Aula Classificação  Binária\n",
    "\n",
    "Dataset: Fraude bancária.\n",
    "\n",
    "Disponível em: https://www.kaggle.com/datasets/mishra5001/credit-card?resource=download"
   ]
  },
  {
   "cell_type": "code",
   "execution_count": 2,
   "metadata": {},
   "outputs": [
    {
     "name": "stdout",
     "output_type": "stream",
     "text": [
      "Collecting pydrive\n",
      "  Downloading PyDrive-1.3.1.tar.gz (987 kB)\n",
      "Collecting google-api-python-client>=1.2\n",
      "  Downloading google_api_python_client-2.58.0-py2.py3-none-any.whl (9.0 MB)\n",
      "Collecting oauth2client>=4.0.0\n",
      "  Downloading oauth2client-4.1.3-py2.py3-none-any.whl (98 kB)\n",
      "Requirement already satisfied: PyYAML>=3.0 in c:\\programdata\\anaconda3\\lib\\site-packages (from pydrive) (3.13)\n",
      "Collecting google-api-core!=2.0.*,!=2.1.*,!=2.2.*,!=2.3.0,<3.0.0dev,>=1.31.5\n",
      "  Downloading google_api_core-2.8.2-py3-none-any.whl (114 kB)\n",
      "Collecting uritemplate<5,>=3.0.1\n",
      "  Downloading uritemplate-4.1.1-py2.py3-none-any.whl (10 kB)\n",
      "Requirement already satisfied: google-auth<3.0.0dev,>=1.19.0 in c:\\programdata\\anaconda3\\lib\\site-packages (from google-api-python-client>=1.2->pydrive) (2.11.0)\n",
      "Collecting google-auth-httplib2>=0.1.0\n",
      "  Downloading google_auth_httplib2-0.1.0-py2.py3-none-any.whl (9.3 kB)\n",
      "Collecting httplib2<1dev,>=0.15.0\n",
      "  Downloading httplib2-0.20.4-py3-none-any.whl (96 kB)\n",
      "Collecting googleapis-common-protos<2.0dev,>=1.56.2\n",
      "  Downloading googleapis_common_protos-1.56.4-py2.py3-none-any.whl (211 kB)\n",
      "Requirement already satisfied: protobuf<5.0.0dev,>=3.15.0 in c:\\programdata\\anaconda3\\lib\\site-packages (from google-api-core!=2.0.*,!=2.1.*,!=2.2.*,!=2.3.0,<3.0.0dev,>=1.31.5->google-api-python-client>=1.2->pydrive) (3.19.4)\n",
      "Requirement already satisfied: requests<3.0.0dev,>=2.18.0 in c:\\programdata\\anaconda3\\lib\\site-packages (from google-api-core!=2.0.*,!=2.1.*,!=2.2.*,!=2.3.0,<3.0.0dev,>=1.31.5->google-api-python-client>=1.2->pydrive) (2.26.0)\n",
      "Requirement already satisfied: rsa<5,>=3.1.4 in c:\\programdata\\anaconda3\\lib\\site-packages (from google-auth<3.0.0dev,>=1.19.0->google-api-python-client>=1.2->pydrive) (4.9)\n",
      "Requirement already satisfied: cachetools<6.0,>=2.0.0 in c:\\programdata\\anaconda3\\lib\\site-packages (from google-auth<3.0.0dev,>=1.19.0->google-api-python-client>=1.2->pydrive) (5.2.0)\n",
      "Requirement already satisfied: six>=1.9.0 in c:\\programdata\\anaconda3\\lib\\site-packages (from google-auth<3.0.0dev,>=1.19.0->google-api-python-client>=1.2->pydrive) (1.16.0)\n",
      "Requirement already satisfied: pyasn1-modules>=0.2.1 in c:\\programdata\\anaconda3\\lib\\site-packages (from google-auth<3.0.0dev,>=1.19.0->google-api-python-client>=1.2->pydrive) (0.2.8)\n",
      "Requirement already satisfied: pyparsing!=3.0.0,!=3.0.1,!=3.0.2,!=3.0.3,<4,>=2.4.2 in c:\\programdata\\anaconda3\\lib\\site-packages (from httplib2<1dev,>=0.15.0->google-api-python-client>=1.2->pydrive) (3.0.4)\n",
      "Requirement already satisfied: pyasn1>=0.1.7 in c:\\programdata\\anaconda3\\lib\\site-packages (from oauth2client>=4.0.0->pydrive) (0.4.8)\n",
      "Requirement already satisfied: certifi>=2017.4.17 in c:\\programdata\\anaconda3\\lib\\site-packages (from requests<3.0.0dev,>=2.18.0->google-api-core!=2.0.*,!=2.1.*,!=2.2.*,!=2.3.0,<3.0.0dev,>=1.31.5->google-api-python-client>=1.2->pydrive) (2021.10.8)\n",
      "Requirement already satisfied: urllib3<1.27,>=1.21.1 in c:\\programdata\\anaconda3\\lib\\site-packages (from requests<3.0.0dev,>=2.18.0->google-api-core!=2.0.*,!=2.1.*,!=2.2.*,!=2.3.0,<3.0.0dev,>=1.31.5->google-api-python-client>=1.2->pydrive) (1.26.7)\n",
      "Requirement already satisfied: charset-normalizer~=2.0.0 in c:\\programdata\\anaconda3\\lib\\site-packages (from requests<3.0.0dev,>=2.18.0->google-api-core!=2.0.*,!=2.1.*,!=2.2.*,!=2.3.0,<3.0.0dev,>=1.31.5->google-api-python-client>=1.2->pydrive) (2.0.4)\n",
      "Requirement already satisfied: idna<4,>=2.5 in c:\\programdata\\anaconda3\\lib\\site-packages (from requests<3.0.0dev,>=2.18.0->google-api-core!=2.0.*,!=2.1.*,!=2.2.*,!=2.3.0,<3.0.0dev,>=1.31.5->google-api-python-client>=1.2->pydrive) (3.2)\n",
      "Building wheels for collected packages: pydrive\n",
      "  Building wheel for pydrive (setup.py): started\n",
      "  Building wheel for pydrive (setup.py): finished with status 'done'\n",
      "  Created wheel for pydrive: filename=PyDrive-1.3.1-py3-none-any.whl size=27453 sha256=8e45849e4798a4c1962c1738370c3b2833e20947c23495e496a776d9bd09c0c6\n",
      "  Stored in directory: c:\\users\\filipe queiroz\\appdata\\local\\pip\\cache\\wheels\\6e\\98\\e3\\c91ae530a0508f87f1f24fe2b9df9d8e3952de1224d495e9e2\n",
      "Successfully built pydrive\n",
      "Installing collected packages: httplib2, googleapis-common-protos, uritemplate, google-auth-httplib2, google-api-core, oauth2client, google-api-python-client, pydrive\n",
      "Successfully installed google-api-core-2.8.2 google-api-python-client-2.58.0 google-auth-httplib2-0.1.0 googleapis-common-protos-1.56.4 httplib2-0.20.4 oauth2client-4.1.3 pydrive-1.3.1 uritemplate-4.1.1\n",
      "Note: you may need to restart the kernel to use updated packages.\n"
     ]
    }
   ],
   "source": [
    "pip install pydrive"
   ]
  },
  {
   "cell_type": "code",
   "execution_count": null,
   "metadata": {},
   "outputs": [],
   "source": [
    "pip install google.colab"
   ]
  },
  {
   "cell_type": "code",
   "execution_count": 5,
   "metadata": {
    "id": "Nsj2G56lcj8y"
   },
   "outputs": [
    {
     "ename": "ModuleNotFoundError",
     "evalue": "No module named 'google.colab'",
     "output_type": "error",
     "traceback": [
      "\u001b[1;31m---------------------------------------------------------------------------\u001b[0m",
      "\u001b[1;31mModuleNotFoundError\u001b[0m                       Traceback (most recent call last)",
      "\u001b[1;32mC:\\Users\\FILIPE~1\\AppData\\Local\\Temp/ipykernel_9940/960676987.py\u001b[0m in \u001b[0;36m<module>\u001b[1;34m\u001b[0m\n\u001b[0;32m      2\u001b[0m \u001b[1;32mfrom\u001b[0m \u001b[0mpydrive\u001b[0m\u001b[1;33m.\u001b[0m\u001b[0mauth\u001b[0m \u001b[1;32mimport\u001b[0m \u001b[0mGoogleAuth\u001b[0m\u001b[1;33m\u001b[0m\u001b[1;33m\u001b[0m\u001b[0m\n\u001b[0;32m      3\u001b[0m \u001b[1;32mfrom\u001b[0m \u001b[0mpydrive\u001b[0m\u001b[1;33m.\u001b[0m\u001b[0mdrive\u001b[0m \u001b[1;32mimport\u001b[0m \u001b[0mGoogleDrive\u001b[0m\u001b[1;33m\u001b[0m\u001b[1;33m\u001b[0m\u001b[0m\n\u001b[1;32m----> 4\u001b[1;33m \u001b[1;32mfrom\u001b[0m \u001b[0mgoogle\u001b[0m\u001b[1;33m.\u001b[0m\u001b[0mcolab\u001b[0m \u001b[1;32mimport\u001b[0m \u001b[0mauth\u001b[0m\u001b[1;33m\u001b[0m\u001b[1;33m\u001b[0m\u001b[0m\n\u001b[0m\u001b[0;32m      5\u001b[0m \u001b[1;32mfrom\u001b[0m \u001b[0moauth2client\u001b[0m\u001b[1;33m.\u001b[0m\u001b[0mclient\u001b[0m \u001b[1;32mimport\u001b[0m \u001b[0mGoogleCredentials\u001b[0m\u001b[1;33m\u001b[0m\u001b[1;33m\u001b[0m\u001b[0m\n\u001b[0;32m      6\u001b[0m \u001b[1;33m\u001b[0m\u001b[0m\n",
      "\u001b[1;31mModuleNotFoundError\u001b[0m: No module named 'google.colab'"
     ]
    }
   ],
   "source": [
    "# Carregar os datasets\n",
    "from pydrive.auth import GoogleAuth \n",
    "from pydrive.drive import GoogleDrive \n",
    "from google.colab import auth \n",
    "from oauth2client.client import GoogleCredentials \n",
    "\n",
    "auth.authenticate_user() \n",
    "gauth = GoogleAuth() \n",
    "gauth.credentials = GoogleCredentials.get_application_default() \n",
    "drive = GoogleDrive(gauth)\n",
    "\n",
    "import pandas as pd"
   ]
  },
  {
   "cell_type": "markdown",
   "metadata": {
    "id": "9Fc2MeOQeBZV"
   },
   "source": [
    "##### Baixa os dados do drive do professor"
   ]
  },
  {
   "cell_type": "code",
   "execution_count": null,
   "metadata": {
    "colab": {
     "base_uri": "https://localhost:8080/"
    },
    "id": "8C5qrnlLc-fc",
    "outputId": "0ef08340-8a55-4189-accb-14482ea90f94"
   },
   "outputs": [],
   "source": [
    "# Baixa os dados de treinamento\n",
    "link = 'https://drive.google.com/file/d/1UpKu9uQboBcT2b8ytOblzcK4SekLgYli/view?usp=sharing'\n",
    "id = link.split(\"/\")[-2]\n",
    "downloaded = drive.CreateFile({'id':id})\n",
    "downloaded.GetContentFile('previous_application.csv')\n",
    "previous_application = pd.read_csv('previous_application.csv', nrows=100000)\n",
    "previous_application.shape"
   ]
  },
  {
   "cell_type": "code",
   "execution_count": null,
   "metadata": {
    "colab": {
     "base_uri": "https://localhost:8080/"
    },
    "id": "40XgFdTfdR7u",
    "outputId": "4f63b312-7753-40cd-a821-45a42e5ab510"
   },
   "outputs": [],
   "source": [
    "# Baixa os dados de treinamento\n",
    "link = 'https://drive.google.com/file/d/12dOmc5_l2Vk0bNZ5tHk_88HqeGQ1tvqF/view?usp=sharing'\n",
    "id = link.split(\"/\")[-2]\n",
    "downloaded = drive.CreateFile({'id':id})\n",
    "downloaded.GetContentFile('application_data.csv')\n",
    "application_data = pd.read_csv('application_data.csv')\n",
    "application_data.shape"
   ]
  },
  {
   "cell_type": "markdown",
   "metadata": {
    "id": "SsBHS8l0eKq6"
   },
   "source": [
    "##### Merge datasets"
   ]
  },
  {
   "cell_type": "code",
   "execution_count": null,
   "metadata": {
    "colab": {
     "base_uri": "https://localhost:8080/"
    },
    "id": "q8ySXWvTdJ-7",
    "outputId": "f519659e-4986-4b4e-b87d-bc1fd5b80363"
   },
   "outputs": [],
   "source": [
    "# neste ponto fazemos o merge(join) dos datasets unindo pelo SK_ID_CURR\n",
    "df = application_data.merge(previous_application, left_on='SK_ID_CURR', right_on='SK_ID_CURR', how='inner') \n",
    "df.shape"
   ]
  },
  {
   "cell_type": "code",
   "execution_count": null,
   "metadata": {
    "colab": {
     "base_uri": "https://localhost:8080/"
    },
    "id": "r8fMEH4xgXda",
    "outputId": "8cc530fa-3792-4c1b-ed39-550a11ef652c"
   },
   "outputs": [],
   "source": [
    "df['TARGET'].value_counts() # checando proporção da variável target"
   ]
  },
  {
   "cell_type": "code",
   "execution_count": null,
   "metadata": {
    "id": "9k1DvdHJeWrQ"
   },
   "outputs": [],
   "source": [
    "import pandas as pd\n",
    "import seaborn as sns\n",
    "import matplotlib.pyplot as plt\n",
    "import numpy as np\n",
    "\n",
    "pd.set_option('display.max_rows', 500)\n",
    "pd.set_option('display.max_columns', 500)"
   ]
  },
  {
   "cell_type": "code",
   "execution_count": null,
   "metadata": {
    "colab": {
     "base_uri": "https://localhost:8080/",
     "height": 422
    },
    "id": "nOur89yhhVR-",
    "outputId": "d21673cd-95d5-4e48-bec4-78b2a1521e07"
   },
   "outputs": [],
   "source": [
    "f,ax=plt.subplots(1,2,figsize=(10,5))\n",
    "\n",
    "df['TARGET'].value_counts().plot.pie(explode=[0,0.05],autopct='%0.2f%%',ax=ax[0])\n",
    "ax[0].set_title('Target')\n",
    "ax[0].set_ylabel('')\n",
    "\n",
    "sns.countplot('TARGET',data=df,ax=ax[1])\n",
    "ax[1].set_title('Target')\n",
    "ax[1].set_ylabel('')"
   ]
  },
  {
   "cell_type": "code",
   "execution_count": null,
   "metadata": {
    "colab": {
     "base_uri": "https://localhost:8080/",
     "height": 352
    },
    "id": "J5Sahh7BhdAB",
    "outputId": "40fa45f9-b44e-4406-f5a7-e0dfd617cb35"
   },
   "outputs": [],
   "source": [
    "sns.countplot('CODE_GENDER',hue='TARGET', data=df)"
   ]
  },
  {
   "cell_type": "code",
   "execution_count": null,
   "metadata": {
    "colab": {
     "base_uri": "https://localhost:8080/",
     "height": 265
    },
    "id": "4UJVwUsyhoB-",
    "outputId": "f2603c2f-e5a1-496b-fd25-50893017dcc3"
   },
   "outputs": [],
   "source": [
    "df['CODE_GENDER'].value_counts().plot.pie(autopct='%0.2f%%')"
   ]
  },
  {
   "cell_type": "code",
   "execution_count": null,
   "metadata": {
    "colab": {
     "base_uri": "https://localhost:8080/"
    },
    "id": "ag0riiJHhybl",
    "outputId": "c800ea1f-6750-479a-fbde-a982a016310d"
   },
   "outputs": [],
   "source": [
    "df['OCCUPATION_TYPE'].value_counts()"
   ]
  },
  {
   "cell_type": "code",
   "execution_count": null,
   "metadata": {
    "colab": {
     "base_uri": "https://localhost:8080/",
     "height": 87
    },
    "id": "cl55-AOCidCz",
    "outputId": "bdd86300-cab4-4339-d71e-0edb99f0d5db"
   },
   "outputs": [],
   "source": [
    "g = sns.FacetGrid(df, col='OCCUPATION_TYPE')\n",
    "g.map(plt.hist,'TARGET', bins=20)"
   ]
  },
  {
   "cell_type": "code",
   "execution_count": null,
   "metadata": {
    "colab": {
     "base_uri": "https://localhost:8080/",
     "height": 211
    },
    "id": "v65KWc3Vi04r",
    "outputId": "47f383e0-39ac-4efe-f0be-9ac5d822f00e"
   },
   "outputs": [],
   "source": [
    "df.sample(2)"
   ]
  },
  {
   "cell_type": "code",
   "execution_count": null,
   "metadata": {
    "colab": {
     "base_uri": "https://localhost:8080/",
     "height": 302
    },
    "id": "q0VhXLDojTx8",
    "outputId": "602a2a92-b8d7-49b9-a706-ddfff2723550"
   },
   "outputs": [],
   "source": [
    "sns.catplot('NAME_FAMILY_STATUS','TARGET', data=df, kind='point')\n",
    "fig=plt.gcf()\n",
    "fig.set_size_inches(6,3)"
   ]
  },
  {
   "cell_type": "code",
   "execution_count": null,
   "metadata": {
    "colab": {
     "base_uri": "https://localhost:8080/",
     "height": 424
    },
    "id": "1D-Tzm3Ejj8a",
    "outputId": "486e91c2-e0b2-4582-feee-390c5a188c21"
   },
   "outputs": [],
   "source": [
    "sns.catplot('NAME_EDUCATION_TYPE','TARGET', data=df, kind='point')\n",
    "fig=plt.gcf()\n",
    "fig.set_size_inches(15,5)"
   ]
  },
  {
   "cell_type": "code",
   "execution_count": null,
   "metadata": {
    "colab": {
     "base_uri": "https://localhost:8080/",
     "height": 307
    },
    "id": "UEe0zXPwj6XD",
    "outputId": "a31b58e3-4657-4510-e633-b0e87e44f5e1"
   },
   "outputs": [],
   "source": [
    "sns.catplot('OCCUPATION_TYPE','TARGET', data=df, kind='point')\n",
    "fig=plt.gcf()\n",
    "fig.set_size_inches(25,5)"
   ]
  },
  {
   "cell_type": "code",
   "execution_count": null,
   "metadata": {
    "id": "UUuDws3SlLhU"
   },
   "outputs": [],
   "source": [
    "def plotPerColumnDistribution(df, nGraphShown, nGraphPerRow):\n",
    "    nunique = df.nunique()\n",
    "    df = df[[col for col in df if nunique[col] > 1 and nunique[col] < 50]] # For displaying purposes, pick columns that have between 1 and 50 unique values\n",
    "    nRow, nCol = df.shape\n",
    "    columnNames = list(df)\n",
    "    nGraphRow = (nCol + nGraphPerRow - 1) / nGraphPerRow\n",
    "    plt.figure(num = None, figsize = (6 * nGraphPerRow, 8 * nGraphRow), dpi = 80, facecolor = 'w', edgecolor = 'k')\n",
    "    for i in range(min(nCol, nGraphShown)):\n",
    "        plt.subplot(nGraphRow, nGraphPerRow, i + 1)\n",
    "        columnDf = df.iloc[:, i]\n",
    "        if (not np.issubdtype(type(columnDf.iloc[0]), np.number)):\n",
    "            valueCounts = columnDf.value_counts()\n",
    "            valueCounts.plot.bar()\n",
    "        else:\n",
    "            columnDf.hist()\n",
    "        plt.ylabel('counts')\n",
    "        plt.xticks(rotation = 90)\n",
    "        plt.title(f'{columnNames[i]} (column {i})')\n",
    "    plt.tight_layout(pad = 1.0, w_pad = 1.0, h_pad = 1.0)\n",
    "    plt.show()"
   ]
  },
  {
   "cell_type": "code",
   "execution_count": null,
   "metadata": {
    "colab": {
     "base_uri": "https://localhost:8080/",
     "height": 1000
    },
    "id": "kBEj1Rhjlfcp",
    "outputId": "ba27a3f4-88a9-4223-c6da-8e107ff0c854"
   },
   "outputs": [],
   "source": [
    "plotPerColumnDistribution(df, 100, 5)"
   ]
  },
  {
   "cell_type": "code",
   "execution_count": null,
   "metadata": {
    "id": "jMCiuSiIlnvE"
   },
   "outputs": [],
   "source": [
    "# Correlação entre variáveis\n",
    "def plotCorrelationMatrix(df, graphWidth):\n",
    "    df = df.dropna('columns') \n",
    "    df = df[[col for col in df if df[col].nunique() > 1]] \n",
    "    if df.shape[1] < 2:\n",
    "        print(f'No correlation plots shown: The number of non-NaN or constant columns ({df.shape[1]}) is less than 2')\n",
    "        return\n",
    "    corr = df.corr()\n",
    "    plt.figure(num=None, figsize=(graphWidth, graphWidth), dpi=80, facecolor='w', edgecolor='k')\n",
    "    corrMat = plt.matshow(corr, fignum = 1)\n",
    "    plt.xticks(range(len(corr.columns)), corr.columns, rotation=90)\n",
    "    plt.yticks(range(len(corr.columns)), corr.columns)\n",
    "    plt.gca().xaxis.tick_bottom()\n",
    "    plt.colorbar(corrMat)\n",
    "    plt.title(f'Matriz de correlação ', fontsize=15)\n",
    "    plt.show()"
   ]
  },
  {
   "cell_type": "code",
   "execution_count": null,
   "metadata": {
    "colab": {
     "base_uri": "https://localhost:8080/",
     "height": 1000
    },
    "id": "vI08J-ShmAYr",
    "outputId": "e48088a9-55e7-4e65-eb91-8cc959e21619"
   },
   "outputs": [],
   "source": [
    "plotCorrelationMatrix(df, 26)"
   ]
  },
  {
   "cell_type": "code",
   "execution_count": null,
   "metadata": {
    "colab": {
     "base_uri": "https://localhost:8080/"
    },
    "id": "Xfwm_fC9mqJS",
    "outputId": "7c745682-280f-4dbb-e211-c902d3b2eb4f"
   },
   "outputs": [],
   "source": [
    "objList = df.select_dtypes(include = \"object\").columns\n",
    "print (objList)"
   ]
  },
  {
   "cell_type": "code",
   "execution_count": null,
   "metadata": {
    "colab": {
     "base_uri": "https://localhost:8080/"
    },
    "id": "ssdWpy1kmDz5",
    "outputId": "94d7485e-63b4-41ed-86b4-9291d7a554ae"
   },
   "outputs": [],
   "source": [
    "for i in objList:\n",
    "  print('A variável {} possui {} registros únicos'.format(str(i), df[i].nunique()))"
   ]
  },
  {
   "cell_type": "code",
   "execution_count": null,
   "metadata": {
    "colab": {
     "base_uri": "https://localhost:8080/"
    },
    "id": "HbHfhjLDmjQc",
    "outputId": "6e451c26-cd90-4f55-b931-c34c05f34460"
   },
   "outputs": [],
   "source": [
    "df.isna().sum() # Soma quantidade de dados faltantes. Usar isna() ou isnull()"
   ]
  },
  {
   "cell_type": "code",
   "execution_count": null,
   "metadata": {
    "id": "zE1v7GF_m2L8"
   },
   "outputs": [],
   "source": [
    "dados_faltando_perc = df.isna().sum()*100/len(df) # Gera os dados faltando em percentual"
   ]
  },
  {
   "cell_type": "code",
   "execution_count": null,
   "metadata": {
    "colab": {
     "base_uri": "https://localhost:8080/"
    },
    "id": "oqAabMZnoylf",
    "outputId": "5e2715e2-4ffc-4e1f-e881-9a1f6435aed9"
   },
   "outputs": [],
   "source": [
    "dados_faltando_perc_columns = dados_faltando_perc[dados_faltando_perc>=20] # filtra colunas com mais de 20% de dados faltando\n",
    "dados_faltando_perc_columns.count()"
   ]
  },
  {
   "cell_type": "code",
   "execution_count": null,
   "metadata": {
    "id": "IQzPtBOhozsq"
   },
   "outputs": [],
   "source": [
    "filtered_df = df.drop(columns=dados_faltando_perc_columns.index) # Filtra df eliminando as colunas com mais de 20% de dados faltando "
   ]
  },
  {
   "cell_type": "code",
   "execution_count": null,
   "metadata": {
    "id": "4RbaOR_SpOIg"
   },
   "outputs": [],
   "source": [
    "filtered_df = filtered_df.fillna(method='backfill') # ffill usa o dado da frente e backfill usa do dado anterior"
   ]
  },
  {
   "cell_type": "code",
   "execution_count": null,
   "metadata": {
    "colab": {
     "base_uri": "https://localhost:8080/"
    },
    "id": "3U6FTfu5pzsY",
    "outputId": "62ce02bb-a9de-4e43-bc7d-12080d824361"
   },
   "outputs": [],
   "source": [
    "filtered_df.isna().sum()"
   ]
  },
  {
   "cell_type": "markdown",
   "metadata": {
    "id": "VZgo8FRhqDPf"
   },
   "source": [
    "#### Modelo Preditivo"
   ]
  },
  {
   "cell_type": "code",
   "execution_count": null,
   "metadata": {
    "id": "zq0lLi_-p3pn"
   },
   "outputs": [],
   "source": [
    "# Bibliotecas para o modelo e feature engineering\n",
    "from sklearn import preprocessing\n",
    "from sklearn.model_selection import train_test_split\n",
    "from sklearn.metrics import confusion_matrix\n",
    "from sklearn.metrics import (roc_curve,\n",
    "                             recall_score,\n",
    "                             accuracy_score,\n",
    "                             roc_auc_score,\n",
    "                             precision_score,\n",
    "                             f1_score)\n",
    "\n",
    "from sklearn.model_selection import KFold \n",
    "\n",
    "from sklearn.model_selection import GridSearchCV, RandomizedSearchCV\n",
    "\n",
    "from sklearn.ensemble import (AdaBoostClassifier, \n",
    "                              GradientBoostingClassifier, \n",
    "                              ExtraTreesClassifier,\n",
    "                              RandomForestClassifier)\n",
    "from sklearn.svm import SVC, LinearSVC\n",
    "from sklearn.neighbors import KNeighborsClassifier\n",
    "from sklearn.linear_model import LogisticRegression\n",
    "import lightgbm as lgb"
   ]
  },
  {
   "cell_type": "code",
   "execution_count": null,
   "metadata": {
    "id": "KRfovKiYrjaC"
   },
   "outputs": [],
   "source": [
    "le = preprocessing.LabelEncoder()"
   ]
  },
  {
   "cell_type": "code",
   "execution_count": null,
   "metadata": {
    "id": "aawEuVvarmY1"
   },
   "outputs": [],
   "source": [
    "# Transforma variáveis categoricas em categoricas numericas (sim e não para 0 e 1)\n",
    "cat_cols = filtered_df.select_dtypes(include = \"object\").columns \n",
    "\n",
    "for c in cat_cols:\n",
    "  filtered_df[c] = le.fit_transform(filtered_df[c])"
   ]
  },
  {
   "cell_type": "code",
   "execution_count": null,
   "metadata": {
    "id": "H5ZHLA2irunr"
   },
   "outputs": [],
   "source": [
    "filtered_df.set_index('SK_ID_CURR', inplace=True) # Define a variável SK_ID_CURR como indice do dataset"
   ]
  },
  {
   "cell_type": "markdown",
   "metadata": {
    "id": "Efeez4RVssBv"
   },
   "source": [
    "##### Separação em treino e teste"
   ]
  },
  {
   "cell_type": "code",
   "execution_count": null,
   "metadata": {
    "id": "ZFdGq8E_r_qC"
   },
   "outputs": [],
   "source": [
    "X = filtered_df.drop('TARGET', axis=1) # Todas as variáveis menos a variável TARGET, variáveis independentes\n",
    "y = filtered_df['TARGET'] # Variáveis dependentes"
   ]
  },
  {
   "cell_type": "code",
   "execution_count": null,
   "metadata": {
    "id": "rty31xmGuIJY"
   },
   "outputs": [],
   "source": [
    "# Separa entre treino e teste, definido 0.3 (30%) para teste\n",
    "X_train, X_test, y_train, y_test = train_test_split(X, y, test_size=0.3, random_state=1235)"
   ]
  },
  {
   "cell_type": "code",
   "execution_count": null,
   "metadata": {
    "id": "0ffRSDeWuai7"
   },
   "outputs": [],
   "source": [
    "class ModeloAuxiliar(object):\n",
    "    def __init__(self, clf, seed=123, params=None):\n",
    "        if params:\n",
    "            params['random_state'] = seed\n",
    "            self.clf = clf(**params)\n",
    "        else:\n",
    "            self.clf = clf()\n",
    "    def predict(self, x):\n",
    "        return self.clf.predict(x)\n",
    "    \n",
    "    def fit(self,x,y):\n",
    "        return self.clf.fit(x,y)\n",
    "    \n",
    "    def feature_importances(self,x,y):\n",
    "        return self.clf.fit(x,y).feature_importances_\n",
    "    \n",
    "    def score(self,x,y):\n",
    "        return self.clf.score(x,y)"
   ]
  },
  {
   "cell_type": "code",
   "execution_count": null,
   "metadata": {
    "id": "-RdITztsu9KT"
   },
   "outputs": [],
   "source": [
    "modelos = [\n",
    "           {'nome': 'gradboost',\n",
    "             'modelo': GradientBoostingClassifier}, \n",
    "           {'nome': 'adaboost',\n",
    "             'modelo': AdaBoostClassifier},\n",
    "           {'nome': 'LinearSVC',\n",
    "            'modelo': LinearSVC},\n",
    "           {'nome': 'RForest',\n",
    "            'modelo': RandomForestClassifier},\n",
    "           {'nome': 'logreg',\n",
    "            'modelo': LogisticRegression},\n",
    "          ]"
   ]
  },
  {
   "cell_type": "code",
   "execution_count": null,
   "metadata": {
    "colab": {
     "base_uri": "https://localhost:8080/"
    },
    "id": "CL0LX36JvN8X",
    "outputId": "a8d668f9-2d44-489c-8e94-cf226f9ae4a5"
   },
   "outputs": [],
   "source": [
    "resultados = []\n",
    "for model in modelos:\n",
    "    x = ModeloAuxiliar(clf=model['modelo'])\n",
    "    # treinar o modelo\n",
    "    x.fit(X_train, y_train)\n",
    "    \n",
    "    # gerar predicao\n",
    "    x_pred = x.predict(X_test)\n",
    "    \n",
    "    # gerar score\n",
    "    acuracidade = round(x.score(X_test,y_test)*100,2)\n",
    "    \n",
    "    resultados.append({'nome': model['nome'],\n",
    "                       'score': acuracidade,\n",
    "                       'pred': x_pred })"
   ]
  },
  {
   "cell_type": "code",
   "execution_count": null,
   "metadata": {
    "id": "vmLB0KG2vgac"
   },
   "outputs": [],
   "source": [
    "# Transforma o dicionário com os resultados dos modelos em um dataframe chamado models\n",
    "models = pd.DataFrame(resultados)"
   ]
  },
  {
   "cell_type": "code",
   "execution_count": null,
   "metadata": {
    "colab": {
     "base_uri": "https://localhost:8080/",
     "height": 206
    },
    "id": "ITziLNC8S5gV",
    "outputId": "3dba822d-4df9-4076-d505-840b490982b8"
   },
   "outputs": [],
   "source": [
    "models[['nome', 'score']].sort_values(by='score', ascending=False)"
   ]
  },
  {
   "cell_type": "code",
   "execution_count": null,
   "metadata": {
    "id": "gDa6OIXtS7i1"
   },
   "outputs": [],
   "source": [
    "def metrics(y_predicted):\n",
    "  print('O recall do modelo é {}'.format(recall_score(y_test, y_predicted)))\n",
    "  print('O acurácia do modelo é {}'.format(accuracy_score(y_test, y_predicted)))\n",
    "  print('O precision do modelo é {}'.format(precision_score(y_test, y_predicted)))\n",
    "  print('O f-score do modelo é {}'.format(f1_score(y_test, y_predicted)))"
   ]
  },
  {
   "cell_type": "markdown",
   "metadata": {
    "id": "L8wC0DZLTs2m"
   },
   "source": [
    "Treinando o melhor modelo"
   ]
  },
  {
   "cell_type": "code",
   "execution_count": null,
   "metadata": {
    "colab": {
     "base_uri": "https://localhost:8080/"
    },
    "id": "Or92HynjTqRF",
    "outputId": "58c5e301-d1d2-4051-a87b-f9357308198f"
   },
   "outputs": [],
   "source": [
    "rf_model = RandomForestClassifier() # Instancia o algoritmo Random Forest no objeto rf_model\n",
    "rf_model.fit(X_train, y_train) # executa o treinamento do modelo "
   ]
  },
  {
   "cell_type": "code",
   "execution_count": null,
   "metadata": {
    "id": "isk5NeeET_PV"
   },
   "outputs": [],
   "source": [
    "#Fazemos a predição dos dados de teste (X_test) para prever o valor de y e salvamos no objeto y_pred\n",
    "y_pred = rf_model.predict(X_test) "
   ]
  },
  {
   "cell_type": "code",
   "execution_count": null,
   "metadata": {
    "colab": {
     "base_uri": "https://localhost:8080/"
    },
    "id": "m8NsSp1HUWKd",
    "outputId": "42e815c4-7c30-4b31-b320-5e88f4b96ce9"
   },
   "outputs": [],
   "source": [
    "metrics(y_pred) # Chamada da função para apresentar as métricas do modelo"
   ]
  },
  {
   "cell_type": "code",
   "execution_count": null,
   "metadata": {
    "colab": {
     "base_uri": "https://localhost:8080/",
     "height": 295
    },
    "id": "Ds6Ox8GXUjQi",
    "outputId": "0cf94122-7d2d-4bab-bf3c-983732460846"
   },
   "outputs": [],
   "source": [
    "sns.heatmap(confusion_matrix(y_test, y_pred), cmap='OrRd', annot=True, fmt='2.0f')\n",
    "plt.title('Matriz Confusão Random Forest')\n",
    "plt.ylabel('Modelo')\n",
    "plt.xlabel('Dados de Teste')\n",
    "plt.show()"
   ]
  },
  {
   "cell_type": "markdown",
   "metadata": {
    "id": "-3zrDuGJWd5I"
   },
   "source": [
    "## Exercício\n",
    "\n",
    "Execute Random Forest com as top N variáveis de acordo com seu feeling. "
   ]
  },
  {
   "cell_type": "code",
   "execution_count": null,
   "metadata": {
    "id": "GQA3nnC6Wo74"
   },
   "outputs": [],
   "source": [
    "cols = ['TARGET', ] # Lista de variávies que vc deseja usar, não esqueca de adicionar a variável TARGET\n",
    "df2 = filtered_df[cols] # filtra o dataset pelas colunas que selecionou\n",
    "\n",
    "X2 = df2.drop('TARGET')\n",
    "y2 = df2['TARGET']\n",
    "\n",
    "X_train, X_test, y_train, y_test = train_test_split(X2, y2, test_size=0.3, random_state=1235)"
   ]
  },
  {
   "cell_type": "code",
   "execution_count": null,
   "metadata": {
    "id": "ybDL2HdjXDI9"
   },
   "outputs": [],
   "source": [
    "# a partir deste ponto adicione o modelo Random Forest"
   ]
  },
  {
   "cell_type": "code",
   "execution_count": null,
   "metadata": {
    "colab": {
     "base_uri": "https://localhost:8080/",
     "height": 270
    },
    "id": "Tsvu4PMkXUlQ",
    "outputId": "8e9ff365-ceae-4563-e19c-bfc2eba6ce84"
   },
   "outputs": [],
   "source": [
    "filtered_df.sample(4)"
   ]
  },
  {
   "cell_type": "markdown",
   "metadata": {
    "id": "QHaKiumLWOrG"
   },
   "source": [
    "#### Feature Selection"
   ]
  },
  {
   "cell_type": "code",
   "execution_count": null,
   "metadata": {
    "id": "Z9aGfJGnVNzV"
   },
   "outputs": [],
   "source": []
  }
 ],
 "metadata": {
  "colab": {
   "collapsed_sections": [],
   "provenance": []
  },
  "kernelspec": {
   "display_name": "Python 3 (ipykernel)",
   "language": "python",
   "name": "python3"
  },
  "language_info": {
   "codemirror_mode": {
    "name": "ipython",
    "version": 3
   },
   "file_extension": ".py",
   "mimetype": "text/x-python",
   "name": "python",
   "nbconvert_exporter": "python",
   "pygments_lexer": "ipython3",
   "version": "3.9.7"
  }
 },
 "nbformat": 4,
 "nbformat_minor": 1
}
