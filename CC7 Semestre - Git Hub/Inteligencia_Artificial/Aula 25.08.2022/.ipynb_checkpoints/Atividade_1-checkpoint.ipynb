{
 "cells": [
  {
   "cell_type": "markdown",
   "id": "6a66dd21",
   "metadata": {},
   "source": [
    "# Atividade - Inteligência artificial <br>\n",
    "### <font color='red'> Concatenação de datasets <font>"
   ]
  },
  {
   "cell_type": "markdown",
   "id": "3c3c0067",
   "metadata": {},
   "source": [
    "# RA's \n",
    "\n",
    "<center > Alex Vinicius Souza do Nascimento - 920110872\t<br>\n",
    "Alexsandro dos Santos Silva\t-       319200068\t<br>\n",
    "Evelyn Castro Maia e Souza -        3019200390 <br>\n",
    "Filipe Queiroz de Abreu\t-           919210778 <br>\n",
    "Kaike Soares Silva\t-               919209611\t <br>\n",
    "Nailda Rodrigues Gonçalves\t-       919203559 <br>\n",
    "    </center>"
   ]
  },
  {
   "cell_type": "code",
   "execution_count": 2,
   "id": "1c681209",
   "metadata": {},
   "outputs": [],
   "source": [
    "import pandas as pd"
   ]
  },
  {
   "cell_type": "code",
   "execution_count": 3,
   "id": "c158046e",
   "metadata": {},
   "outputs": [
    {
     "name": "stderr",
     "output_type": "stream",
     "text": [
      "C:\\ProgramData\\Anaconda3\\lib\\site-packages\\IPython\\core\\interactiveshell.py:3444: DtypeWarning: Columns (22) have mixed types.Specify dtype option on import or set low_memory=False.\n",
      "  exec(code_obj, self.user_global_ns, self.user_ns)\n"
     ]
    }
   ],
   "source": [
    "datasets = {}\n",
    "\n",
    "for item in range(0,5):\n",
    "    datasets[\"df{}\".format(item)] = pd.read_csv('Data/reclamacoes-fundamentadas-sindec-201{}.csv'.format(item + 2))"
   ]
  },
  {
   "cell_type": "code",
   "execution_count": 4,
   "id": "7613aaf2",
   "metadata": {},
   "outputs": [],
   "source": [
    "df_full = pd.concat(datasets.values())"
   ]
  },
  {
   "cell_type": "code",
   "execution_count": 6,
   "id": "4399b04a",
   "metadata": {},
   "outputs": [
    {
     "data": {
      "text/plain": [
       "(1206072, 23)"
      ]
     },
     "execution_count": 6,
     "metadata": {},
     "output_type": "execute_result"
    }
   ],
   "source": [
    "df_full.shape"
   ]
  }
 ],
 "metadata": {
  "kernelspec": {
   "display_name": "Python 3 (ipykernel)",
   "language": "python",
   "name": "python3"
  },
  "language_info": {
   "codemirror_mode": {
    "name": "ipython",
    "version": 3
   },
   "file_extension": ".py",
   "mimetype": "text/x-python",
   "name": "python",
   "nbconvert_exporter": "python",
   "pygments_lexer": "ipython3",
   "version": "3.9.7"
  }
 },
 "nbformat": 4,
 "nbformat_minor": 5
}
