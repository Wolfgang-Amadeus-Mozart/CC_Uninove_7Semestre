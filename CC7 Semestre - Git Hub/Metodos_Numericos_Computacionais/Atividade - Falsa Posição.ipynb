{
 "cells": [
  {
   "cell_type": "markdown",
   "metadata": {
    "id": "ySOSugxovenU"
   },
   "source": [
    "# Metodos numericos"
   ]
  },
  {
   "cell_type": "markdown",
   "metadata": {},
   "source": [
    "### Atividade 10/10/2022"
   ]
  },
  {
   "cell_type": "markdown",
   "metadata": {},
   "source": [
    "<center> RA 919210778 <br> Nome: Filipe Queiroz de Abreu"
   ]
  },
  {
   "cell_type": "code",
   "execution_count": 25,
   "metadata": {
    "id": "ZaIYYdqqO0nX"
   },
   "outputs": [],
   "source": [
    "import math"
   ]
  },
  {
   "cell_type": "code",
   "execution_count": 26,
   "metadata": {
    "id": "6yzC38NuNw7y"
   },
   "outputs": [],
   "source": [
    "def teorema(a,b,func):\n",
    "  fA = func(a)\n",
    "  fB = func(b)\n",
    "  r = fA*fB\n",
    "  return r<=0,fA>0,fB>0"
   ]
  },
  {
   "cell_type": "code",
   "execution_count": 27,
   "metadata": {
    "id": "pGika70wFU6M"
   },
   "outputs": [],
   "source": [
    "def raizBissecao(func,a,b):\n",
    "  return (a+b)/2"
   ]
  },
  {
   "cell_type": "code",
   "execution_count": 28,
   "metadata": {
    "id": "apYdOAkDF_31"
   },
   "outputs": [],
   "source": [
    "def raizFalsaPosicao(func,a,b):\n",
    "  return (a*func(b)-b*func(a))/(func(b)-func(a))"
   ]
  },
  {
   "cell_type": "code",
   "execution_count": 29,
   "metadata": {
    "id": "OdYzdKzOSG1G"
   },
   "outputs": [],
   "source": [
    "def resolucao(func,funcRaiz,a,b,criterio, aPositivo,bPositivo, interacao):\n",
    "  interacao+=1\n",
    "  raiz = funcRaiz(func,a,b)\n",
    "  sinal = func(raiz)\n",
    "  if(abs(sinal)<=criterio):\n",
    "    return a,b,raiz,sinal,interacao\n",
    "  if(aPositivo):\n",
    "    if(sinal>0):\n",
    "      a=raiz\n",
    "  else:\n",
    "    if (sinal<0):\n",
    "      a=raiz\n",
    "  if (bPositivo):\n",
    "    if(sinal>0):\n",
    "      b=raiz\n",
    "  else:\n",
    "    if(sinal<0):\n",
    "      b=raiz\n",
    "  return resolucao(func,funcRaiz,a,b,criterio, aPositivo,bPositivo,interacao)"
   ]
  },
  {
   "cell_type": "code",
   "execution_count": 30,
   "metadata": {
    "id": "XJLZsuQYPgWf"
   },
   "outputs": [],
   "source": [
    "def main(func,funcRaiz,a,b, criterio):\n",
    "  try:\n",
    "    temRaiz, aPositivo, bPositivo = teorema(a,b,func)\n",
    "    if(temRaiz):\n",
    "      a,b,raiz,sinal, interacao = resolucao(func,funcRaiz,a,b,criterio,aPositivo,bPositivo,0)\n",
    "      return f'Interação: {interacao}, Raiz aproximada: {raiz}, Sinal: {sinal}, Intervalo:[{a}, {b}]'\n",
    "    return \"Não tem raiz\"\n",
    "  except RecursionError:\n",
    "    return \"Excedeu o limite de inteções\""
   ]
  },
  {
   "cell_type": "code",
   "execution_count": 31,
   "metadata": {
    "colab": {
     "base_uri": "https://localhost:8080/"
    },
    "id": "YahKsK1wX68J",
    "outputId": "9ca87529-e27d-4e69-dcd0-2c7e2391989e"
   },
   "outputs": [
    {
     "name": "stdout",
     "output_type": "stream",
     "text": [
      "Bisseção: Interação: 10, Raiz aproximada: 2.3564453125, Sinal: -0.0003547163055122038, Intervalo:[2.35546875, 2.357421875]\n",
      "Falsa posição: Interação: 2, Raiz aproximada: 2.355960339731531, Sinal: 0.00033113875429313655, Intervalo:[2, 2.3674680399032155]\n"
     ]
    }
   ],
   "source": [
    "#exercicio1\n",
    "def equacao(x):\n",
    "  return math.sin(x) + math.cos(x)\n",
    "a=2\n",
    "b=3\n",
    "criterio=0.0005\n",
    "print(f'Bisseção: {main(equacao,raizBissecao,a,b,criterio)}')\n",
    "print(f'Falsa posição: {main(equacao,raizFalsaPosicao,a,b,criterio)}')"
   ]
  },
  {
   "cell_type": "code",
   "execution_count": 32,
   "metadata": {
    "colab": {
     "base_uri": "https://localhost:8080/"
    },
    "id": "Fh81hmOXP3-5",
    "outputId": "94d84dc7-da4a-4a72-9b79-f47ebe709c43"
   },
   "outputs": [
    {
     "name": "stdout",
     "output_type": "stream",
     "text": [
      "Bisseção: Interação: 11, Raiz aproximada: 0.896728515625, Sinal: 0.00041918988136080415, Intervalo:[0.896484375, 0.89697265625]\n",
      "Falsa posição: Interação: 3, Raiz aproximada: 0.8966816828079057, Sinal: -2.1059645792909087e-05, Intervalo:[0.8966061065925499, 1]\n"
     ]
    }
   ],
   "source": [
    "#exercicio2\n",
    "def equacao(x):\n",
    "  return 2*math.pow(x,3) + 5* math.log(x) -x\n",
    "a=0.5\n",
    "b=1\n",
    "criterio=0.0005\n",
    "print(f'Bisseção: {main(equacao,raizBissecao,a,b,criterio)}')\n",
    "print(f'Falsa posição: {main(equacao,raizFalsaPosicao,a,b,criterio)}')"
   ]
  },
  {
   "cell_type": "code",
   "execution_count": 33,
   "metadata": {},
   "outputs": [
    {
     "name": "stdout",
     "output_type": "stream",
     "text": [
      "Bisseção: Não tem raiz\n",
      "Falsa posição: Não tem raiz\n"
     ]
    }
   ],
   "source": [
    "#exercicio3\n",
    "def equacao(x):\n",
    "  return 2* math.log(x) + 4* math.sin(x)\n",
    "a=4\n",
    "b=5\n",
    "criterio=0.05\n",
    "print(f'Bisseção: {main(equacao,raizBissecao,a,b,criterio)}')\n",
    "print(f'Falsa posição: {main(equacao,raizFalsaPosicao,a,b,criterio)}')"
   ]
  }
 ],
 "metadata": {
  "colab": {
   "provenance": []
  },
  "kernelspec": {
   "display_name": "Python 3 (ipykernel)",
   "language": "python",
   "name": "python3"
  },
  "language_info": {
   "codemirror_mode": {
    "name": "ipython",
    "version": 3
   },
   "file_extension": ".py",
   "mimetype": "text/x-python",
   "name": "python",
   "nbconvert_exporter": "python",
   "pygments_lexer": "ipython3",
   "version": "3.9.7"
  }
 },
 "nbformat": 4,
 "nbformat_minor": 1
}
