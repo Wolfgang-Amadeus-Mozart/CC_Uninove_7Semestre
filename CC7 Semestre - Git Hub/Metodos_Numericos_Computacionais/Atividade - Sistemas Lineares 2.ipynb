{
 "cells": [
  {
   "cell_type": "markdown",
   "id": "862041f6",
   "metadata": {},
   "source": [
    "# Atividade entregue a matéria de métodos numéricos e computacionais"
   ]
  },
  {
   "cell_type": "markdown",
   "id": "fa46f427",
   "metadata": {},
   "source": [
    "<img src='data/exercicios_parte2.png'>"
   ]
  },
  {
   "cell_type": "markdown",
   "id": "386ee177",
   "metadata": {},
   "source": [
    "<img src='data/exercicios_parte2-2.png'>"
   ]
  },
  {
   "cell_type": "code",
   "execution_count": 2,
   "id": "790a669e",
   "metadata": {},
   "outputs": [],
   "source": [
    "import numpy as np"
   ]
  },
  {
   "cell_type": "code",
   "execution_count": 3,
   "id": "8026e235",
   "metadata": {},
   "outputs": [],
   "source": [
    "#Criei essas funções para me ajudar no calculo\n",
    "def swap(a, b):\n",
    "    x = a.copy()\n",
    "    y = b.copy()\n",
    "    x[:, 0] = y\n",
    "    return x\n",
    "\n",
    "def analisa_determinan(a,b):\n",
    "    Ax = swap(a, b)\n",
    "    detA = np.linalg.det(A)\n",
    "    detAx = np.linalg.det(Ax)  \n",
    "    if detA !=0:\n",
    "        S = np.linalg.solve(A, B)\n",
    "        print(f'SPD e asolução é {S}')\n",
    "    else:\n",
    "        if detA == 0 and detAx == 0:\n",
    "            print('SPI')\n",
    "        else:\n",
    "            print('SI')"
   ]
  },
  {
   "cell_type": "code",
   "execution_count": 11,
   "id": "5f134ab0",
   "metadata": {},
   "outputs": [
    {
     "name": "stdout",
     "output_type": "stream",
     "text": [
      "SPI\n"
     ]
    }
   ],
   "source": [
    "#Exercicio 1\n",
    "A = np.array([[2,-1], [4,-2]])\n",
    "B = np.array([5, 10])\n",
    "analisa_determinan(A,B)"
   ]
  },
  {
   "cell_type": "code",
   "execution_count": 12,
   "id": "4aca06e9",
   "metadata": {},
   "outputs": [
    {
     "name": "stdout",
     "output_type": "stream",
     "text": [
      "SPD e asolução é [-0.08571429  0.65714286  0.51428571]\n"
     ]
    }
   ],
   "source": [
    "#Exercicio 2\n",
    "A = np.array([[-4,1,0], [3,5,-2], [1,0,6]])\n",
    "B = np.array([1,2,3])\n",
    "analisa_determinan(A,B)"
   ]
  },
  {
   "cell_type": "code",
   "execution_count": 13,
   "id": "478bc26c",
   "metadata": {},
   "outputs": [
    {
     "name": "stdout",
     "output_type": "stream",
     "text": [
      "SPD e asolução é [ 1. -2.  2.]\n"
     ]
    }
   ],
   "source": [
    "#Exercicio 3\n",
    "A = np.array([[1,2,4],[2,-1,2],[3,-3,-1]])\n",
    "B = np.array([5,8,7])\n",
    "analisa_determinan(A,B)"
   ]
  },
  {
   "cell_type": "code",
   "execution_count": 14,
   "id": "d5283455",
   "metadata": {},
   "outputs": [
    {
     "name": "stdout",
     "output_type": "stream",
     "text": [
      "SPD e asolução é [-7.  6. -3.]\n"
     ]
    }
   ],
   "source": [
    "#Exercicio 4\n",
    "A = np.array([[1,2,-1],[2,3,1],[5,3,-2]])\n",
    "B = np.array([8,1,-11])\n",
    "analisa_determinan(A,B)"
   ]
  },
  {
   "cell_type": "code",
   "execution_count": 16,
   "id": "46c3923c",
   "metadata": {},
   "outputs": [
    {
     "name": "stdout",
     "output_type": "stream",
     "text": [
      "SPD e asolução é [ 80000.  20000. 100000.]\n"
     ]
    }
   ],
   "source": [
    "#Exercicio 5\n",
    "A = np.array([[1,1,-1],[1,1,1],[0.15,0.1,0.06]])\n",
    "B = np.array([0,200000,20000])\n",
    "analisa_determinan(A,B)"
   ]
  }
 ],
 "metadata": {
  "kernelspec": {
   "display_name": "Python 3 (ipykernel)",
   "language": "python",
   "name": "python3"
  },
  "language_info": {
   "codemirror_mode": {
    "name": "ipython",
    "version": 3
   },
   "file_extension": ".py",
   "mimetype": "text/x-python",
   "name": "python",
   "nbconvert_exporter": "python",
   "pygments_lexer": "ipython3",
   "version": "3.9.7"
  }
 },
 "nbformat": 4,
 "nbformat_minor": 5
}
