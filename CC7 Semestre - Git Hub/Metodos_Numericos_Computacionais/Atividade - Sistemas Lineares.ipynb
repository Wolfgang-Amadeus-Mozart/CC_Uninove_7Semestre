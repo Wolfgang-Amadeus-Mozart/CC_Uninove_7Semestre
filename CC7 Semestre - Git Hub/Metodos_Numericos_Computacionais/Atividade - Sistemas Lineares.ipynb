{
 "cells": [
  {
   "cell_type": "markdown",
   "id": "b53e2e8a",
   "metadata": {},
   "source": [
    "# Atividade entregue a matéria de métodos numéricos e computacionais"
   ]
  },
  {
   "cell_type": "markdown",
   "id": "ecf2f3a8",
   "metadata": {},
   "source": [
    "<img src='data\\exercicios1.png'> "
   ]
  },
  {
   "cell_type": "markdown",
   "id": "a40577e5",
   "metadata": {},
   "source": [
    "<img src='data/exercicios2.png'>"
   ]
  },
  {
   "cell_type": "code",
   "execution_count": 3,
   "id": "d65763c2",
   "metadata": {},
   "outputs": [],
   "source": [
    "import numpy as np"
   ]
  },
  {
   "cell_type": "code",
   "execution_count": 5,
   "id": "dbf3762d",
   "metadata": {},
   "outputs": [],
   "source": [
    "#Criei essas funções para me ajudar no calculo\n",
    "def swap(a, b):\n",
    "    x = a.copy()\n",
    "    y = b.copy()\n",
    "    x[:, 0] = y\n",
    "    return x\n",
    "\n",
    "def analisa_determinan(a,b):\n",
    "    Ax = swap(a, b)\n",
    "    detA = np.linalg.det(A)\n",
    "    detAx = np.linalg.det(Ax)  \n",
    "    if detA !=0:\n",
    "        S = np.linalg.solve(A, B)\n",
    "        print(f'SPD e asolução é {S}')\n",
    "    else:\n",
    "        if detA == 0 and detAx == 0:\n",
    "            print('SPI')\n",
    "        else:\n",
    "            print('SI')"
   ]
  },
  {
   "cell_type": "code",
   "execution_count": 6,
   "id": "c260d6bf",
   "metadata": {},
   "outputs": [
    {
     "name": "stdout",
     "output_type": "stream",
     "text": [
      "SPD e asolução é [ 3. -1.]\n"
     ]
    }
   ],
   "source": [
    "#Exercício 1\n",
    "A = np.array([[2, -1], [1, 5]])\n",
    "B = np.array([7, -2])\n",
    "analisa_determinan(A,B)"
   ]
  },
  {
   "cell_type": "code",
   "execution_count": 7,
   "id": "959638c6",
   "metadata": {},
   "outputs": [
    {
     "name": "stdout",
     "output_type": "stream",
     "text": [
      "SPD e asolução é [ 2.00000000e+00 -1.00000000e+00 -6.43607551e-18]\n"
     ]
    }
   ],
   "source": [
    "#Exercício 2\n",
    "A = np.array([[1, 2, -1],[3, -4, 5], [1, 1, 9]])\n",
    "B = np.array([0, 10, 1])\n",
    "analisa_determinan(A,B)"
   ]
  },
  {
   "cell_type": "code",
   "execution_count": 8,
   "id": "45dfcf3b",
   "metadata": {},
   "outputs": [
    {
     "name": "stdout",
     "output_type": "stream",
     "text": [
      "SPD e asolução é [1. 2.]\n"
     ]
    }
   ],
   "source": [
    "#Exercício 3\n",
    "A = np.array([[1,2], [2, -3]])\n",
    "B = np.array([5, -4])\n",
    "analisa_determinan(A,B)"
   ]
  },
  {
   "cell_type": "code",
   "execution_count": 9,
   "id": "47633cf9",
   "metadata": {},
   "outputs": [
    {
     "name": "stdout",
     "output_type": "stream",
     "text": [
      "SPI\n"
     ]
    }
   ],
   "source": [
    "#Exercício 4\n",
    "A = np.array([[1,1],[2,2]])\n",
    "B = np.array([5,10])\n",
    "analisa_determinan(A,B)"
   ]
  },
  {
   "cell_type": "code",
   "execution_count": 11,
   "id": "8198f258",
   "metadata": {},
   "outputs": [
    {
     "name": "stdout",
     "output_type": "stream",
     "text": [
      "SPD e asolução é [-3. 12. -3.]\n"
     ]
    }
   ],
   "source": [
    "#Exercício 5\n",
    "A = np.array([[2,1,1], [1,1,2], [1,1,1]])\n",
    "B = np.array([3,3,6])\n",
    "analisa_determinan(A,B)"
   ]
  },
  {
   "cell_type": "code",
   "execution_count": 12,
   "id": "54e36e33",
   "metadata": {},
   "outputs": [
    {
     "name": "stdout",
     "output_type": "stream",
     "text": [
      "SPD e asolução é [ 1.  2. -1.]\n"
     ]
    }
   ],
   "source": [
    "#Exercício 6\n",
    "A = np.array([[1,4,7], [2,3,6], [5,1,-1]])\n",
    "B = np.array([2,2,8])\n",
    "analisa_determinan(A,B)"
   ]
  },
  {
   "cell_type": "code",
   "execution_count": 14,
   "id": "a39f5bdb",
   "metadata": {},
   "outputs": [
    {
     "name": "stdout",
     "output_type": "stream",
     "text": [
      "SPD e asolução é [ 7. -9.  6.]\n"
     ]
    }
   ],
   "source": [
    "#Exercício 7\n",
    "A = np.array([[2,3,3], [1,1,2], [0,1,2]])\n",
    "B = np.array([5,10,3])\n",
    "analisa_determinan(A,B)"
   ]
  },
  {
   "cell_type": "code",
   "execution_count": 15,
   "id": "b14825af",
   "metadata": {},
   "outputs": [
    {
     "name": "stdout",
     "output_type": "stream",
     "text": [
      "SPD e asolução é [2. 1. 3.]\n"
     ]
    }
   ],
   "source": [
    "#Exercício 8\n",
    "A = np.array([[2, 1, 1], [1, 1, 4], [0, 3, 2]])\n",
    "B = np.array([8,15,9])\n",
    "analisa_determinan(A,B)"
   ]
  },
  {
   "cell_type": "code",
   "execution_count": 16,
   "id": "8bb0cbcd",
   "metadata": {},
   "outputs": [
    {
     "name": "stdout",
     "output_type": "stream",
     "text": [
      "SPD e asolução é [-8.88178420e-17 -1.77635684e-16  2.00000000e+00 -1.00000000e+00]\n"
     ]
    }
   ],
   "source": [
    "#Exercício 9\n",
    "A = np.array([[1,1,1,1], [-1, 2, 1,0], [2,-1,-1,-1], [1,-3,1,2]])\n",
    "B = np.array([1,2,-1,0])\n",
    "analisa_determinan(A,B)"
   ]
  }
 ],
 "metadata": {
  "kernelspec": {
   "display_name": "Python 3 (ipykernel)",
   "language": "python",
   "name": "python3"
  },
  "language_info": {
   "codemirror_mode": {
    "name": "ipython",
    "version": 3
   },
   "file_extension": ".py",
   "mimetype": "text/x-python",
   "name": "python",
   "nbconvert_exporter": "python",
   "pygments_lexer": "ipython3",
   "version": "3.9.7"
  }
 },
 "nbformat": 4,
 "nbformat_minor": 5
}
