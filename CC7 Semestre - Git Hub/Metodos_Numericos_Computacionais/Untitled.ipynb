{
 "cells": [
  {
   "cell_type": "code",
   "execution_count": 5,
   "id": "344272ff",
   "metadata": {},
   "outputs": [],
   "source": [
    "import numpy as np"
   ]
  },
  {
   "cell_type": "code",
   "execution_count": 6,
   "id": "44f6cd6a",
   "metadata": {},
   "outputs": [
    {
     "name": "stdout",
     "output_type": "stream",
     "text": [
      "3.999999999999999\n"
     ]
    }
   ],
   "source": [
    "M = np.array([[2,1,1], [1,2,1], [1,1,2]]) #Criando a matriz\n",
    "D = np.linalg.det(M) #Claculando o determinante\n",
    "print(D)"
   ]
  },
  {
   "cell_type": "markdown",
   "id": "fceb9376",
   "metadata": {},
   "source": [
    "## Classificação dos"
   ]
  },
  {
   "cell_type": "code",
   "execution_count": 130,
   "id": "8d04ca6a",
   "metadata": {},
   "outputs": [
    {
     "data": {
      "text/plain": [
       "array([[ 1,  1],\n",
       "       [-3,  1]])"
      ]
     },
     "execution_count": 130,
     "metadata": {},
     "output_type": "execute_result"
    }
   ],
   "source": [
    "A = np.array([[1,1], [-3,1]])\n",
    "B = np.array([6,2])#Matriz dos termos independentes\n",
    "Ax = np.array([[6,1], [2,1]]) #Troca os elemenos da coluna x pelos termos independetes\n",
    "detA = np.linalg.det(A) #determinante da matriz A\n",
    "detAx = np.linalg.det(Ax)  #determinante da matriz Ax\n",
    "A"
   ]
  },
  {
   "cell_type": "code",
   "execution_count": 17,
   "id": "736e9338",
   "metadata": {},
   "outputs": [
    {
     "data": {
      "text/plain": [
       "array([[ 2,  4,  7],\n",
       "       [ 2,  3,  6],\n",
       "       [ 8,  1, -1]])"
      ]
     },
     "execution_count": 17,
     "metadata": {},
     "output_type": "execute_result"
    }
   ],
   "source": [
    "A = np.array([[1,4,7], [2,3,6], [5,1,-1]])\n",
    "B = np.array([2,2,8])\n",
    "Ax = np.array([[2,4,7], [2,3,6], [8,1,-1]]) #Troca os elemenos da coluna x pelos termos independetes\n",
    "detA = np.linalg.det(A) #determinante da matriz A\n",
    "detAx = np.linalg.det(Ax)  #determinante da matriz Ax\n",
    "Ax"
   ]
  },
  {
   "cell_type": "code",
   "execution_count": 18,
   "id": "8ab8a57e",
   "metadata": {},
   "outputs": [
    {
     "name": "stdout",
     "output_type": "stream",
     "text": [
      "SPD e asolução é [ 1.  2. -1.]\n"
     ]
    }
   ],
   "source": [
    "#analisar o determinante\n",
    "if detA !=0:\n",
    "    S = np.linalg.solve(A, B)\n",
    "    print(f'SPD e asolução é {S}')\n",
    "else:\n",
    "    if detA == 0 and detAx == 0:\n",
    "        print('SPI')\n",
    "    else:\n",
    "        print('SI')"
   ]
  },
  {
   "cell_type": "code",
   "execution_count": 7,
   "id": "2ce6f33d",
   "metadata": {},
   "outputs": [],
   "source": [
    "#analisar o determinante\n",
    "\n",
    "def swap(a, b):\n",
    "    x = a.copy()\n",
    "    y = b.copy()\n",
    "    x[:, 0] = y\n",
    "    return x\n",
    "\n",
    "def analisa_determinan(a,b):\n",
    "    Ax = swap(a, b)\n",
    "    detA = np.linalg.det(A)\n",
    "    detAx = np.linalg.det(Ax)  \n",
    "    if detA !=0:\n",
    "        S = np.linalg.solve(A, B)\n",
    "        print(f'SPD e asolução é {S}')\n",
    "    else:\n",
    "        if detA == 0 and detAx == 0:\n",
    "            print('SPI')\n",
    "        else:\n",
    "            print('SI')"
   ]
  },
  {
   "cell_type": "code",
   "execution_count": 8,
   "id": "1114eab6",
   "metadata": {},
   "outputs": [
    {
     "name": "stdout",
     "output_type": "stream",
     "text": [
      "SPD e asolução é [ 3. -1.]\n"
     ]
    }
   ],
   "source": [
    "A = np.array([[2, -1], [1, 5]])\n",
    "B = np.array([7, -2])\n",
    "analisa_determinan(A,B)"
   ]
  },
  {
   "cell_type": "code",
   "execution_count": 20,
   "id": "7171f835",
   "metadata": {},
   "outputs": [
    {
     "name": "stdout",
     "output_type": "stream",
     "text": [
      "SPD e asolução é [ 2.00000000e+00 -1.00000000e+00 -6.43607551e-18]\n"
     ]
    }
   ],
   "source": [
    "A = np.array([[1, 2, -1],[3, -4, 5], [1, 1, 9]])\n",
    "B = np.array([0, 10, 1])\n",
    "analisa_determinan(A,B)"
   ]
  },
  {
   "cell_type": "code",
   "execution_count": 11,
   "id": "a0f3e0f5",
   "metadata": {},
   "outputs": [
    {
     "name": "stdout",
     "output_type": "stream",
     "text": [
      "SPD e asolução é [ 1.  2. -1.]\n"
     ]
    }
   ],
   "source": [
    "A = np.array([[1,4,7], [2,3,6], [5,1,-1]])\n",
    "B = np.array([2,2,8])\n",
    "analisa_determinan(A,B)"
   ]
  },
  {
   "cell_type": "code",
   "execution_count": 13,
   "id": "51aacb11",
   "metadata": {},
   "outputs": [
    {
     "name": "stdout",
     "output_type": "stream",
     "text": [
      "SPD e asolução é [-8.88178420e-17 -1.77635684e-16  2.00000000e+00 -1.00000000e+00]\n"
     ]
    }
   ],
   "source": [
    "A = np.array([[1,1,1,1], [-1, 2, 1,0], [2,-1,-1,-1], [1,-3,1,2]])\n",
    "B = np.array([1,2,-1,0])\n",
    "analisa_determinan(A,B)"
   ]
  },
  {
   "cell_type": "code",
   "execution_count": 154,
   "id": "9977de4d",
   "metadata": {},
   "outputs": [
    {
     "name": "stdout",
     "output_type": "stream",
     "text": [
      "SPD e asolução é [-8.88178420e-17 -1.77635684e-16  2.00000000e+00 -1.00000000e+00]\n"
     ]
    }
   ],
   "source": [
    "analisa_determinan(A,B)"
   ]
  },
  {
   "cell_type": "code",
   "execution_count": 156,
   "id": "fab3cc02",
   "metadata": {},
   "outputs": [
    {
     "data": {
      "text/plain": [
       "array([-8.88178420e-17, -1.77635684e-16,  2.00000000e+00, -1.00000000e+00])"
      ]
     },
     "execution_count": 156,
     "metadata": {},
     "output_type": "execute_result"
    }
   ],
   "source": [
    "S = np.linalg.solve(A, B)\n",
    "S"
   ]
  },
  {
   "cell_type": "code",
   "execution_count": 75,
   "id": "fb66e523",
   "metadata": {},
   "outputs": [],
   "source": [
    "df = pd.DataFrame(A)\n",
    "df.set_index(0, inplace=True)"
   ]
  }
 ],
 "metadata": {
  "kernelspec": {
   "display_name": "Python 3 (ipykernel)",
   "language": "python",
   "name": "python3"
  },
  "language_info": {
   "codemirror_mode": {
    "name": "ipython",
    "version": 3
   },
   "file_extension": ".py",
   "mimetype": "text/x-python",
   "name": "python",
   "nbconvert_exporter": "python",
   "pygments_lexer": "ipython3",
   "version": "3.9.7"
  }
 },
 "nbformat": 4,
 "nbformat_minor": 5
}
