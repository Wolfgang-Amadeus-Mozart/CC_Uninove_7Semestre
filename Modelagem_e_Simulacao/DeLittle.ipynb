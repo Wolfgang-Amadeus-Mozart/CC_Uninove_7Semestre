{
 "cells": [
  {
   "cell_type": "markdown",
   "id": "b512f41a",
   "metadata": {},
   "source": [
    "# <font color='red'> Fórmulas de Little </font>\n",
    "\n",
    "<li>Lamda : Ritmo medio de chegada </li>\n",
    "<li> TA: Tempo médio de atendimento</li>\n",
    "<li>TS: Tempo medio de permencia na sistema </li>\n",
    "<li>TF: Tempo medio de permanencia na fila </li>\n",
    "<li>NF: Tamanho medio da fila </li>\n",
    "<li>NA = Número Médio de Clientes que estão sendo atendidos</li>\n",
    "<li>TA = Tempo Médio de Atendimento ou de Serviço </li>\n",
    "<li style=\"list-style-type: square\">TFS : Tempo fora do sistema </li>\n",
    "<li> \n",
    "\n",
    "<hr style=\"border-top: 2px solid red\"> </hr>"
   ]
  },
  {
   "cell_type": "code",
   "execution_count": 1,
   "id": "87b6afc9",
   "metadata": {},
   "outputs": [],
   "source": [
    "import re"
   ]
  },
  {
   "cell_type": "code",
   "execution_count": 19,
   "id": "cb085051",
   "metadata": {},
   "outputs": [
    {
     "data": {
      "text/plain": [
       "['1', '1', '3']"
      ]
     },
     "execution_count": 19,
     "metadata": {},
     "output_type": "execute_result"
    }
   ],
   "source": [
    "#texto = 'arara1'\n",
    "regex = re.compile(r'[0-9]')\n",
    "check = regex.findall(texto)\n",
    "check"
   ]
  },
  {
   "cell_type": "code",
   "execution_count": 28,
   "id": "ecc66f82",
   "metadata": {},
   "outputs": [],
   "source": [
    "texto = '1 mais 1'"
   ]
  },
  {
   "cell_type": "code",
   "execution_count": 29,
   "id": "d626e617",
   "metadata": {},
   "outputs": [],
   "source": [
    "import numpy as np"
   ]
  },
  {
   "cell_type": "code",
   "execution_count": 30,
   "id": "47bfad09",
   "metadata": {},
   "outputs": [],
   "source": [
    "numeros = []\n",
    "for item in check:\n",
    "    numeros.append(int(item))\n",
    "numeros = np.array(numeros)"
   ]
  },
  {
   "cell_type": "code",
   "execution_count": 31,
   "id": "4210af9b",
   "metadata": {},
   "outputs": [
    {
     "name": "stdout",
     "output_type": "stream",
     "text": [
      "Collecting num2words\n",
      "  Downloading num2words-0.5.12-py3-none-any.whl (125 kB)\n",
      "Collecting docopt>=0.6.2\n",
      "  Downloading docopt-0.6.2.tar.gz (25 kB)\n",
      "Building wheels for collected packages: docopt\n",
      "  Building wheel for docopt (setup.py): started\n",
      "  Building wheel for docopt (setup.py): finished with status 'done'\n",
      "  Created wheel for docopt: filename=docopt-0.6.2-py2.py3-none-any.whl size=13724 sha256=a6fee3f2abefcdc5df2b56e7ee7cbf63b52d21f435e649cfd755cf88e30ba6d9\n",
      "  Stored in directory: c:\\users\\filipe queiroz\\appdata\\local\\pip\\cache\\wheels\\70\\4a\\46\\1309fc853b8d395e60bafaf1b6df7845bdd82c95fd59dd8d2b\n",
      "Successfully built docopt\n",
      "Installing collected packages: docopt, num2words\n",
      "Successfully installed docopt-0.6.2 num2words-0.5.12\n",
      "Note: you may need to restart the kernel to use updated packages.\n"
     ]
    }
   ],
   "source": [
    "pip install num2words"
   ]
  },
  {
   "cell_type": "code",
   "execution_count": 33,
   "id": "8ec5ed6b",
   "metadata": {},
   "outputs": [],
   "source": [
    "import num2words"
   ]
  },
  {
   "cell_type": "code",
   "execution_count": 54,
   "id": "632833bd",
   "metadata": {},
   "outputs": [
    {
     "data": {
      "text/plain": [
       "1"
      ]
     },
     "execution_count": 54,
     "metadata": {},
     "output_type": "execute_result"
    }
   ],
   "source": [
    "numeros[0] * numeros[1]"
   ]
  },
  {
   "cell_type": "code",
   "execution_count": 139,
   "id": "7194017c",
   "metadata": {},
   "outputs": [],
   "source": [
    "def converte_aritimetica(conta):\n",
    "        numeros = []\n",
    "        regex = re.compile(r'[0-9]*[.,]{0,1}[0-9]*$')\n",
    "        check = regex.findall(conta)\n",
    "        for item in check:\n",
    "            numeros.append(float(item))\n",
    "        numeros = np.array(numeros)\n",
    "        return numeros"
   ]
  },
  {
   "cell_type": "code",
   "execution_count": 140,
   "id": "f29d8e31",
   "metadata": {},
   "outputs": [
    {
     "ename": "ValueError",
     "evalue": "could not convert string to float: ''",
     "output_type": "error",
     "traceback": [
      "\u001b[1;31m---------------------------------------------------------------------------\u001b[0m",
      "\u001b[1;31mValueError\u001b[0m                                Traceback (most recent call last)",
      "\u001b[1;32mC:\\Users\\FILIPE~1\\AppData\\Local\\Temp/ipykernel_4852/3027861137.py\u001b[0m in \u001b[0;36m<module>\u001b[1;34m\u001b[0m\n\u001b[1;32m----> 1\u001b[1;33m \u001b[0mconverte_aritimetica\u001b[0m\u001b[1;33m(\u001b[0m\u001b[1;34m'300 por 10'\u001b[0m\u001b[1;33m)\u001b[0m\u001b[1;33m\u001b[0m\u001b[1;33m\u001b[0m\u001b[0m\n\u001b[0m",
      "\u001b[1;32mC:\\Users\\FILIPE~1\\AppData\\Local\\Temp/ipykernel_4852/3628449922.py\u001b[0m in \u001b[0;36mconverte_aritimetica\u001b[1;34m(conta)\u001b[0m\n\u001b[0;32m      4\u001b[0m         \u001b[0mcheck\u001b[0m \u001b[1;33m=\u001b[0m \u001b[0mregex\u001b[0m\u001b[1;33m.\u001b[0m\u001b[0mfindall\u001b[0m\u001b[1;33m(\u001b[0m\u001b[0mconta\u001b[0m\u001b[1;33m)\u001b[0m\u001b[1;33m\u001b[0m\u001b[1;33m\u001b[0m\u001b[0m\n\u001b[0;32m      5\u001b[0m         \u001b[1;32mfor\u001b[0m \u001b[0mitem\u001b[0m \u001b[1;32min\u001b[0m \u001b[0mcheck\u001b[0m\u001b[1;33m:\u001b[0m\u001b[1;33m\u001b[0m\u001b[1;33m\u001b[0m\u001b[0m\n\u001b[1;32m----> 6\u001b[1;33m             \u001b[0mnumeros\u001b[0m\u001b[1;33m.\u001b[0m\u001b[0mappend\u001b[0m\u001b[1;33m(\u001b[0m\u001b[0mfloat\u001b[0m\u001b[1;33m(\u001b[0m\u001b[0mitem\u001b[0m\u001b[1;33m)\u001b[0m\u001b[1;33m)\u001b[0m\u001b[1;33m\u001b[0m\u001b[1;33m\u001b[0m\u001b[0m\n\u001b[0m\u001b[0;32m      7\u001b[0m         \u001b[0mnumeros\u001b[0m \u001b[1;33m=\u001b[0m \u001b[0mnp\u001b[0m\u001b[1;33m.\u001b[0m\u001b[0marray\u001b[0m\u001b[1;33m(\u001b[0m\u001b[0mnumeros\u001b[0m\u001b[1;33m)\u001b[0m\u001b[1;33m\u001b[0m\u001b[1;33m\u001b[0m\u001b[0m\n\u001b[0;32m      8\u001b[0m         \u001b[1;32mreturn\u001b[0m \u001b[0mnumeros\u001b[0m\u001b[1;33m\u001b[0m\u001b[1;33m\u001b[0m\u001b[0m\n",
      "\u001b[1;31mValueError\u001b[0m: could not convert string to float: ''"
     ]
    }
   ],
   "source": [
    "converte_aritimetica('300 por 10')"
   ]
  },
  {
   "cell_type": "code",
   "execution_count": 143,
   "id": "b6719bb2",
   "metadata": {},
   "outputs": [
    {
     "data": {
      "text/plain": [
       "['10', '']"
      ]
     },
     "execution_count": 143,
     "metadata": {},
     "output_type": "execute_result"
    }
   ],
   "source": [
    "conta = '300 por 10'\n",
    "regex = re.compile(r'[0-9]*[.,]{0,1}[0-9]*$')\n",
    "check = regex.findall(conta)\n",
    "check"
   ]
  },
  {
   "cell_type": "code",
   "execution_count": 147,
   "id": "a45383b8",
   "metadata": {},
   "outputs": [
    {
     "data": {
      "text/plain": [
       "['300', '10']"
      ]
     },
     "execution_count": 147,
     "metadata": {},
     "output_type": "execute_result"
    }
   ],
   "source": [
    "conta = '300 por 10'\n",
    "regex = re.compile(r'[0-9]+')\n",
    "check = regex.findall(conta)\n",
    "check"
   ]
  }
 ],
 "metadata": {
  "kernelspec": {
   "display_name": "Python 3 (ipykernel)",
   "language": "python",
   "name": "python3"
  },
  "language_info": {
   "codemirror_mode": {
    "name": "ipython",
    "version": 3
   },
   "file_extension": ".py",
   "mimetype": "text/x-python",
   "name": "python",
   "nbconvert_exporter": "python",
   "pygments_lexer": "ipython3",
   "version": "3.9.7"
  }
 },
 "nbformat": 4,
 "nbformat_minor": 5
}
